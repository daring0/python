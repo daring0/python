{
 "cells": [
  {
   "cell_type": "code",
   "execution_count": 1,
   "metadata": {},
   "outputs": [],
   "source": [
    "import numpy as np\n",
    "ar_list = [i for i in range(20)]\n",
    "np_list = np.array(ar_list)"
   ]
  },
  {
   "cell_type": "code",
   "execution_count": 2,
   "metadata": {},
   "outputs": [
    {
     "name": "stdout",
     "output_type": "stream",
     "text": [
      "0,1\n",
      "1,2\n",
      "2,3\n",
      "3,4\n",
      "4,5\n",
      "5,6\n"
     ]
    }
   ],
   "source": [
    "a = [1,2,3,4,5,6]\n",
    "for i, j in enumerate(a):\n",
    "    print(i, j, sep=\",\")"
   ]
  },
  {
   "cell_type": "code",
   "execution_count": 3,
   "metadata": {},
   "outputs": [
    {
     "name": "stdout",
     "output_type": "stream",
     "text": [
      "******************************* 0\n",
      "j :  0\n",
      "j :  2\n",
      "j :  4\n",
      "j :  6\n",
      "j :  8\n",
      "******************************* 2\n",
      "j :  0\n",
      "j :  2\n",
      "j :  4\n",
      "j :  6\n",
      "j :  8\n",
      "******************************* 4\n",
      "j :  0\n",
      "j :  2\n",
      "j :  4\n",
      "j :  6\n",
      "j :  8\n",
      "******************************* 6\n",
      "j :  0\n",
      "j :  2\n",
      "j :  4\n",
      "j :  6\n",
      "j :  8\n",
      "******************************* 8\n",
      "j :  0\n",
      "j :  2\n",
      "j :  4\n",
      "j :  6\n",
      "j :  8\n"
     ]
    }
   ],
   "source": [
    "for i in range(0, 10, 2):\n",
    "    print(\"*******************************\", i)\n",
    "    for j in range(0, 10, 2):\n",
    "        print(\"j : \" , j)"
   ]
  },
  {
   "cell_type": "code",
   "execution_count": 4,
   "metadata": {},
   "outputs": [
    {
     "name": "stdout",
     "output_type": "stream",
     "text": [
      "************************* 0 단\n",
      "j :  0\n",
      "j :  2\n",
      "j :  4\n",
      "j :  6\n",
      "j :  8\n",
      "************************* 2 단\n",
      "j :  0\n",
      "j :  2\n",
      "j :  4\n",
      "j :  6\n",
      "j :  8\n",
      "************************* 4 단\n",
      "j :  0\n",
      "j :  2\n",
      "j :  4\n",
      "j :  6\n",
      "j :  8\n",
      "************************* 6 단\n",
      "j :  0\n",
      "j :  2\n",
      "j :  4\n",
      "j :  6\n",
      "j :  8\n",
      "************************* 8 단\n",
      "j :  0\n",
      "j :  2\n",
      "j :  4\n",
      "j :  6\n",
      "j :  8\n"
     ]
    }
   ],
   "source": [
    "for i in range(0, 10, 2):\n",
    "    print(\"*************************\", i, \"단\")\n",
    "    for j in range(0, 10, 2):\n",
    "        print(\"j : \", j)"
   ]
  },
  {
   "cell_type": "code",
   "execution_count": 5,
   "metadata": {},
   "outputs": [
    {
     "name": "stdout",
     "output_type": "stream",
     "text": [
      "************* 1 단 ************\n",
      "1 * 1  =  1\n",
      "1 * 2  =  2\n",
      "1 * 3  =  3\n",
      "1 * 4  =  4\n",
      "1 * 5  =  5\n",
      "1 * 6  =  6\n",
      "1 * 7  =  7\n",
      "1 * 8  =  8\n",
      "1 * 9  =  9\n",
      "************* 2 단 ************\n",
      "2 * 1  =  2\n",
      "2 * 2  =  4\n",
      "2 * 3  =  6\n",
      "2 * 4  =  8\n",
      "2 * 5  =  10\n",
      "2 * 6  =  12\n",
      "2 * 7  =  14\n",
      "2 * 8  =  16\n",
      "2 * 9  =  18\n",
      "************* 3 단 ************\n",
      "3 * 1  =  3\n",
      "3 * 2  =  6\n",
      "3 * 3  =  9\n",
      "3 * 4  =  12\n",
      "3 * 5  =  15\n",
      "3 * 6  =  18\n",
      "3 * 7  =  21\n",
      "3 * 8  =  24\n",
      "3 * 9  =  27\n",
      "************* 4 단 ************\n",
      "4 * 1  =  4\n",
      "4 * 2  =  8\n",
      "4 * 3  =  12\n",
      "4 * 4  =  16\n",
      "4 * 5  =  20\n",
      "4 * 6  =  24\n",
      "4 * 7  =  28\n",
      "4 * 8  =  32\n",
      "4 * 9  =  36\n",
      "************* 5 단 ************\n",
      "5 * 1  =  5\n",
      "5 * 2  =  10\n",
      "5 * 3  =  15\n",
      "5 * 4  =  20\n",
      "5 * 5  =  25\n",
      "5 * 6  =  30\n",
      "5 * 7  =  35\n",
      "5 * 8  =  40\n",
      "5 * 9  =  45\n",
      "************* 6 단 ************\n",
      "6 * 1  =  6\n",
      "6 * 2  =  12\n",
      "6 * 3  =  18\n",
      "6 * 4  =  24\n",
      "6 * 5  =  30\n",
      "6 * 6  =  36\n",
      "6 * 7  =  42\n",
      "6 * 8  =  48\n",
      "6 * 9  =  54\n",
      "************* 7 단 ************\n",
      "7 * 1  =  7\n",
      "7 * 2  =  14\n",
      "7 * 3  =  21\n",
      "7 * 4  =  28\n",
      "7 * 5  =  35\n",
      "7 * 6  =  42\n",
      "7 * 7  =  49\n",
      "7 * 8  =  56\n",
      "7 * 9  =  63\n",
      "************* 8 단 ************\n",
      "8 * 1  =  8\n",
      "8 * 2  =  16\n",
      "8 * 3  =  24\n",
      "8 * 4  =  32\n",
      "8 * 5  =  40\n",
      "8 * 6  =  48\n",
      "8 * 7  =  56\n",
      "8 * 8  =  64\n",
      "8 * 9  =  72\n",
      "************* 9 단 ************\n",
      "9 * 1  =  9\n",
      "9 * 2  =  18\n",
      "9 * 3  =  27\n",
      "9 * 4  =  36\n",
      "9 * 5  =  45\n",
      "9 * 6  =  54\n",
      "9 * 7  =  63\n",
      "9 * 8  =  72\n",
      "9 * 9  =  81\n"
     ]
    }
   ],
   "source": [
    "for i in range(1, 10, 1):\n",
    "    print(\"*************\", i, \"단\", \"************\")\n",
    "    for j in range(1, 10, 1):\n",
    "        print(i, \"*\", j, \" = \", i * j)"
   ]
  },
  {
   "cell_type": "code",
   "execution_count": 6,
   "metadata": {},
   "outputs": [
    {
     "name": "stdout",
     "output_type": "stream",
     "text": [
      "Result !!!\n",
      "Result !!!\n",
      "Result !!!\n",
      "Result !!!\n",
      "Result !!!\n"
     ]
    }
   ],
   "source": [
    "i = 1\n",
    "while i < 6:\n",
    "    i += 1\n",
    "    print(\"Result !!!\")"
   ]
  },
  {
   "cell_type": "code",
   "execution_count": 7,
   "metadata": {},
   "outputs": [
    {
     "name": "stdout",
     "output_type": "stream",
     "text": [
      "[1, 2, 3, 4, 5]\n"
     ]
    }
   ],
   "source": [
    "i = [1,2,3,4,5]\n",
    "print(i)"
   ]
  },
  {
   "cell_type": "code",
   "execution_count": 9,
   "metadata": {},
   "outputs": [
    {
     "name": "stdout",
     "output_type": "stream",
     "text": [
      "값을 입력해주세요.\n",
      "값을 입력해주세요.\n",
      "값을 입력해주세요.\n",
      "값을 입력해주세요.\n",
      "값을 입력해주세요.\n",
      "값을 입력해주세요.\n"
     ]
    }
   ],
   "source": [
    "i = 1\n",
    "while (i < 7):\n",
    "    i += 1\n",
    "    print(\"값을 입력해주세요.\")"
   ]
  },
  {
   "cell_type": "code",
   "execution_count": 24,
   "metadata": {},
   "outputs": [
    {
     "name": "stdout",
     "output_type": "stream",
     "text": [
      "[46, 19, 14, 35, 18, 22, 49, 12, 35, 47]\n",
      "가장 큰 값은 :  49\n"
     ]
    }
   ],
   "source": [
    "import random\n",
    "\n",
    "a = [random.randint(1, 100) for i in range(10)]\n",
    "print(a)\n",
    "\n",
    "maxA = a[0]\n",
    "\n",
    "for i in range(1, len(a)):\n",
    "    if maxA < a[i]:\n",
    "        maxA = a[i]\n",
    "        print(\"가장 큰 값은 : \", maxA)"
   ]
  },
  {
   "cell_type": "code",
   "execution_count": 25,
   "metadata": {},
   "outputs": [
    {
     "name": "stdout",
     "output_type": "stream",
     "text": [
      "{'name': 'tom', 'age': 20, 'address': 'incheon'}\n"
     ]
    }
   ],
   "source": [
    "keys = [\"name\", \"age\", \"address\"]\n",
    "users = [\"tom\", 20, \"incheon\"]\n",
    "dic = dict(zip(keys, users))\n",
    "print(dic)"
   ]
  },
  {
   "cell_type": "code",
   "execution_count": 26,
   "metadata": {},
   "outputs": [
    {
     "name": "stdout",
     "output_type": "stream",
     "text": [
      "[('name', 'tom'), ('age', 20), ('address', 'incheon')]\n"
     ]
    }
   ],
   "source": [
    "lis = list(zip(keys, users))\n",
    "print(lis)"
   ]
  },
  {
   "cell_type": "code",
   "execution_count": 28,
   "metadata": {},
   "outputs": [
    {
     "data": {
      "text/plain": [
       "[[10, 20], [30, 40], [50, 60]]"
      ]
     },
     "execution_count": 28,
     "metadata": {},
     "output_type": "execute_result"
    }
   ],
   "source": [
    "a = [[10, 20], [30, 40], [50, 60]]\n",
    "a = [[10, 20],\n",
    "    [30, 40],\n",
    "    [50, 60]]\n",
    "a"
   ]
  },
  {
   "cell_type": "code",
   "execution_count": 29,
   "metadata": {},
   "outputs": [],
   "source": [
    "def func(a, b):\n",
    "    print(\"함수입니다.\")\n",
    "    return a + b"
   ]
  },
  {
   "cell_type": "code",
   "execution_count": 30,
   "metadata": {},
   "outputs": [
    {
     "name": "stdout",
     "output_type": "stream",
     "text": [
      "함수입니다.\n",
      "3\n"
     ]
    }
   ],
   "source": [
    "func_test = func(1,2)\n",
    "print(func_test)"
   ]
  },
  {
   "cell_type": "code",
   "execution_count": 31,
   "metadata": {},
   "outputs": [],
   "source": [
    "#전역변수 a, b\n",
    "a = 1\n",
    "b = 2\n",
    "c = 5\n",
    "\n",
    "def func1():\n",
    "    a = 3 \n",
    "    b = 4\n",
    "    print(a, b, c)\n",
    "    return "
   ]
  },
  {
   "cell_type": "code",
   "execution_count": 32,
   "metadata": {},
   "outputs": [
    {
     "name": "stdout",
     "output_type": "stream",
     "text": [
      "3 4 5\n"
     ]
    }
   ],
   "source": [
    "func1()"
   ]
  },
  {
   "cell_type": "code",
   "execution_count": 33,
   "metadata": {},
   "outputs": [
    {
     "name": "stdout",
     "output_type": "stream",
     "text": [
      "3 4 5\n",
      "3 4 5\n",
      "None None\n"
     ]
    }
   ],
   "source": [
    "a = 1\n",
    "b = 2\n",
    "c = 5\n",
    "\n",
    "def func2():\n",
    "    a = 5\n",
    "    b = 6\n",
    "    \n",
    "func1()\n",
    "    a = 3\n",
    "    b = 4\n",
    "    \n",
    "print(func1(), func2())"
   ]
  },
  {
   "cell_type": "code",
   "execution_count": 34,
   "metadata": {},
   "outputs": [],
   "source": [
    "a = 1\n",
    "b = 2\n",
    "c = 5\n",
    "\n",
    "def func2():\n",
    "    a = 5\n",
    "    b = 6\n",
    "    \n",
    "    func1()\n",
    "    \n",
    "    print(a, b)"
   ]
  },
  {
   "cell_type": "code",
   "execution_count": 35,
   "metadata": {},
   "outputs": [
    {
     "name": "stdout",
     "output_type": "stream",
     "text": [
      "3 4 5\n",
      "5 6\n"
     ]
    }
   ],
   "source": [
    "func2()"
   ]
  },
  {
   "cell_type": "code",
   "execution_count": 36,
   "metadata": {},
   "outputs": [],
   "source": [
    "def func(a, b, c):\n",
    "    print(a, b, c)"
   ]
  },
  {
   "cell_type": "code",
   "execution_count": 37,
   "metadata": {},
   "outputs": [
    {
     "name": "stdout",
     "output_type": "stream",
     "text": [
      "1 2 3\n"
     ]
    }
   ],
   "source": [
    "x = [1, 2, 3]\n",
    "func(*x)"
   ]
  },
  {
   "cell_type": "code",
   "execution_count": 38,
   "metadata": {},
   "outputs": [
    {
     "name": "stdout",
     "output_type": "stream",
     "text": [
      "잘못된 인덱스 list index out of range\n"
     ]
    }
   ],
   "source": [
    "x = [1, 2, 3]\n",
    "try:\n",
    "    x[5]\n",
    "except IndexError as e:\n",
    "    print(\"잘못된 인덱스\", e)"
   ]
  },
  {
   "cell_type": "code",
   "execution_count": null,
   "metadata": {},
   "outputs": [],
   "source": [
    "try:\n",
    "    print(10/0)"
   ]
  }
 ],
 "metadata": {
  "kernelspec": {
   "display_name": "Python 3",
   "language": "python",
   "name": "python3"
  },
  "language_info": {
   "codemirror_mode": {
    "name": "ipython",
    "version": 3
   },
   "file_extension": ".py",
   "mimetype": "text/x-python",
   "name": "python",
   "nbconvert_exporter": "python",
   "pygments_lexer": "ipython3",
   "version": "3.6.7"
  }
 },
 "nbformat": 4,
 "nbformat_minor": 2
}
